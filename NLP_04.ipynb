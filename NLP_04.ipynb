{
  "cells": [
    {
      "cell_type": "code",
      "execution_count": null,
      "metadata": {
        "colab": {
          "base_uri": "https://localhost:8080/"
        },
        "id": "dJvkTp2y1OYR",
        "outputId": "24a049e9-8f4e-45c3-f58d-2427828b57eb"
      },
      "outputs": [
        {
          "name": "stdout",
          "output_type": "stream",
          "text": [
            "Eight CARDINAL\n",
            "Indian Navy ORG\n",
            "Qatar GPE\n",
            "Doha GPE\n",
            "12th Feb 2024 DATE\n",
            "New Delhi GPE\n"
          ]
        }
      ],
      "source": [
        "import spacy\n",
        "\n",
        "nlp = spacy.load(\"en_core_web_sm\")\n",
        "content = \"Eight Indian Navy veterans, who initially faced death sentences in Qatar, were released by Doha on 12th Feb 2024. The capital punishment was later converted to prolonged prison terms through diplomatic interventions by New Delhi.\"\n",
        "\n",
        "doc = nlp(content)\n",
        "\n",
        "for ent in doc.ents:\n",
        "    print(ent.text,  ent.label_)"
      ]
    },
    {
      "cell_type": "code",
      "execution_count": null,
      "metadata": {
        "colab": {
          "base_uri": "https://localhost:8080/",
          "height": 87
        },
        "id": "-0Po0tG814_u",
        "outputId": "1a8769db-59a1-4743-b14d-2c440acd289a"
      },
      "outputs": [
        {
          "data": {
            "text/html": [
              "<span class=\"tex2jax_ignore\"><div class=\"entities\" style=\"line-height: 2.5; direction: ltr\">\n",
              "<mark class=\"entity\" style=\"background: #e4e7d2; padding: 0.45em 0.6em; margin: 0 0.25em; line-height: 1; border-radius: 0.35em;\">\n",
              "    Eight\n",
              "    <span style=\"font-size: 0.8em; font-weight: bold; line-height: 1; border-radius: 0.35em; vertical-align: middle; margin-left: 0.5rem\">CARDINAL</span>\n",
              "</mark>\n",
              " \n",
              "<mark class=\"entity\" style=\"background: #7aecec; padding: 0.45em 0.6em; margin: 0 0.25em; line-height: 1; border-radius: 0.35em;\">\n",
              "    Indian Navy\n",
              "    <span style=\"font-size: 0.8em; font-weight: bold; line-height: 1; border-radius: 0.35em; vertical-align: middle; margin-left: 0.5rem\">ORG</span>\n",
              "</mark>\n",
              " veterans, who initially faced death sentences in \n",
              "<mark class=\"entity\" style=\"background: #feca74; padding: 0.45em 0.6em; margin: 0 0.25em; line-height: 1; border-radius: 0.35em;\">\n",
              "    Qatar\n",
              "    <span style=\"font-size: 0.8em; font-weight: bold; line-height: 1; border-radius: 0.35em; vertical-align: middle; margin-left: 0.5rem\">GPE</span>\n",
              "</mark>\n",
              ", were released by \n",
              "<mark class=\"entity\" style=\"background: #feca74; padding: 0.45em 0.6em; margin: 0 0.25em; line-height: 1; border-radius: 0.35em;\">\n",
              "    Doha\n",
              "    <span style=\"font-size: 0.8em; font-weight: bold; line-height: 1; border-radius: 0.35em; vertical-align: middle; margin-left: 0.5rem\">GPE</span>\n",
              "</mark>\n",
              " on \n",
              "<mark class=\"entity\" style=\"background: #bfe1d9; padding: 0.45em 0.6em; margin: 0 0.25em; line-height: 1; border-radius: 0.35em;\">\n",
              "    12th Feb 2024\n",
              "    <span style=\"font-size: 0.8em; font-weight: bold; line-height: 1; border-radius: 0.35em; vertical-align: middle; margin-left: 0.5rem\">DATE</span>\n",
              "</mark>\n",
              ". The capital punishment was later converted to prolonged prison terms through diplomatic interventions by \n",
              "<mark class=\"entity\" style=\"background: #feca74; padding: 0.45em 0.6em; margin: 0 0.25em; line-height: 1; border-radius: 0.35em;\">\n",
              "    New Delhi\n",
              "    <span style=\"font-size: 0.8em; font-weight: bold; line-height: 1; border-radius: 0.35em; vertical-align: middle; margin-left: 0.5rem\">GPE</span>\n",
              "</mark>\n",
              ".</div></span>"
            ],
            "text/plain": [
              "<IPython.core.display.HTML object>"
            ]
          },
          "metadata": {},
          "output_type": "display_data"
        }
      ],
      "source": [
        "from spacy import displacy\n",
        "displacy.render(doc, style=\"ent\")"
      ]
    },
    {
      "cell_type": "code",
      "execution_count": null,
      "metadata": {
        "colab": {
          "base_uri": "https://localhost:8080/"
        },
        "id": "ckrMs5Hl4UXU",
        "outputId": "c9c1ca6d-aa53-4d57-f217-83b8705de1a2"
      },
      "outputs": [
        {
          "name": "stderr",
          "output_type": "stream",
          "text": [
            "[nltk_data] Downloading package punkt to /root/nltk_data...\n",
            "[nltk_data]   Unzipping tokenizers/punkt.zip.\n"
          ]
        }
      ],
      "source": [
        "import nltk\n",
        "nltk.download('punkt')\n",
        "from nltk.tokenize import word_tokenize\n",
        "from nltk.tag import pos_tag\n",
        "content = \"Eight Indian Navy veterans, who initially faced death sentences in Qatar, were released by Doha on 12th Feb 2024. The capital punishment was later converted to prolonged prison terms through diplomatic interventions by New Delhi.\"\n",
        "\n",
        "\n"
      ]
    },
    {
      "cell_type": "code",
      "execution_count": null,
      "metadata": {
        "colab": {
          "base_uri": "https://localhost:8080/"
        },
        "id": "nb0_Xw945Qp1",
        "outputId": "fb394f8f-79e1-4a12-bd82-cbcf25aae706"
      },
      "outputs": [
        {
          "data": {
            "text/plain": [
              "['Eight',\n",
              " 'Indian',\n",
              " 'Navy',\n",
              " 'veterans',\n",
              " ',',\n",
              " 'who',\n",
              " 'initially',\n",
              " 'faced',\n",
              " 'death',\n",
              " 'sentences',\n",
              " 'in',\n",
              " 'Qatar',\n",
              " ',',\n",
              " 'were',\n",
              " 'released',\n",
              " 'by',\n",
              " 'Doha',\n",
              " 'on',\n",
              " '12th',\n",
              " 'Feb',\n",
              " '2024',\n",
              " '.',\n",
              " 'The',\n",
              " 'capital',\n",
              " 'punishment',\n",
              " 'was',\n",
              " 'later',\n",
              " 'converted',\n",
              " 'to',\n",
              " 'prolonged',\n",
              " 'prison',\n",
              " 'terms',\n",
              " 'through',\n",
              " 'diplomatic',\n",
              " 'interventions',\n",
              " 'by',\n",
              " 'New',\n",
              " 'Delhi',\n",
              " '.']"
            ]
          },
          "execution_count": 10,
          "metadata": {},
          "output_type": "execute_result"
        }
      ],
      "source": [
        "sent = nltk.word_tokenize(content)\n",
        "\n",
        "sent"
      ]
    },
    {
      "cell_type": "code",
      "execution_count": null,
      "metadata": {
        "colab": {
          "base_uri": "https://localhost:8080/"
        },
        "id": "ZL6501ik5tZ1",
        "outputId": "dad1a5d6-8cb9-4952-de5d-968efa174ec7"
      },
      "outputs": [
        {
          "name": "stderr",
          "output_type": "stream",
          "text": [
            "[nltk_data] Downloading package averaged_perceptron_tagger to\n",
            "[nltk_data]     /root/nltk_data...\n",
            "[nltk_data]   Unzipping taggers/averaged_perceptron_tagger.zip.\n"
          ]
        },
        {
          "data": {
            "text/plain": [
              "[('Eight', 'CD'),\n",
              " ('Indian', 'JJ'),\n",
              " ('Navy', 'NNP'),\n",
              " ('veterans', 'NNS'),\n",
              " (',', ','),\n",
              " ('who', 'WP'),\n",
              " ('initially', 'RB'),\n",
              " ('faced', 'VBD'),\n",
              " ('death', 'NN'),\n",
              " ('sentences', 'NNS'),\n",
              " ('in', 'IN'),\n",
              " ('Qatar', 'NNP'),\n",
              " (',', ','),\n",
              " ('were', 'VBD'),\n",
              " ('released', 'VBN'),\n",
              " ('by', 'IN'),\n",
              " ('Doha', 'NNP'),\n",
              " ('on', 'IN'),\n",
              " ('12th', 'CD'),\n",
              " ('Feb', 'JJ'),\n",
              " ('2024', 'CD'),\n",
              " ('.', '.'),\n",
              " ('The', 'DT'),\n",
              " ('capital', 'NN'),\n",
              " ('punishment', 'NN'),\n",
              " ('was', 'VBD'),\n",
              " ('later', 'RB'),\n",
              " ('converted', 'VBN'),\n",
              " ('to', 'TO'),\n",
              " ('prolonged', 'JJ'),\n",
              " ('prison', 'NN'),\n",
              " ('terms', 'NNS'),\n",
              " ('through', 'IN'),\n",
              " ('diplomatic', 'JJ'),\n",
              " ('interventions', 'NNS'),\n",
              " ('by', 'IN'),\n",
              " ('New', 'NNP'),\n",
              " ('Delhi', 'NNP'),\n",
              " ('.', '.')]"
            ]
          },
          "execution_count": 11,
          "metadata": {},
          "output_type": "execute_result"
        }
      ],
      "source": [
        "import nltk\n",
        "nltk.download('averaged_perceptron_tagger')\n",
        "sent1=nltk.pos_tag(sent)\n",
        "sent1"
      ]
    },
    {
      "cell_type": "code",
      "execution_count": null,
      "metadata": {
        "colab": {
          "base_uri": "https://localhost:8080/"
        },
        "id": "tOG0y1n28IG8",
        "outputId": "f9f99fc8-3d32-49b4-83fb-f2cbc207eff2"
      },
      "outputs": [
        {
          "name": "stdout",
          "output_type": "stream",
          "text": [
            "(S\n",
            "  Eight/CD\n",
            "  Indian/JJ\n",
            "  Navy/NNP\n",
            "  veterans/NNS\n",
            "  ,/,\n",
            "  who/WP\n",
            "  initially/RB\n",
            "  faced/VBD\n",
            "  (NP death/NN)\n",
            "  sentences/NNS\n",
            "  in/IN\n",
            "  Qatar/NNP\n",
            "  ,/,\n",
            "  were/VBD\n",
            "  released/VBN\n",
            "  by/IN\n",
            "  Doha/NNP\n",
            "  on/IN\n",
            "  12th/CD\n",
            "  Feb/JJ\n",
            "  2024/CD\n",
            "  ./.\n",
            "  (NP The/DT capital/NN)\n",
            "  (NP punishment/NN)\n",
            "  was/VBD\n",
            "  later/RB\n",
            "  converted/VBN\n",
            "  to/TO\n",
            "  (NP prolonged/JJ prison/NN)\n",
            "  terms/NNS\n",
            "  through/IN\n",
            "  diplomatic/JJ\n",
            "  interventions/NNS\n",
            "  by/IN\n",
            "  New/NNP\n",
            "  Delhi/NNP\n",
            "  ./.)\n"
          ]
        }
      ],
      "source": [
        "pattern = 'NP: {<DT>?<JJ>*<NN>}'\n",
        "cp = nltk.RegexpParser(pattern)\n",
        "cs = cp.parse(sent1)\n",
        "print(cs)"
      ]
    },
    {
      "cell_type": "code",
      "execution_count": null,
      "metadata": {
        "colab": {
          "base_uri": "https://localhost:8080/"
        },
        "id": "PYRBzJWs8qir",
        "outputId": "3f95bbb1-5a6d-428c-d923-f6c3fcdfb0ba"
      },
      "outputs": [
        {
          "name": "stdout",
          "output_type": "stream",
          "text": [
            "[('Eight', 'CD', 'O'),\n",
            " ('Indian', 'JJ', 'O'),\n",
            " ('Navy', 'NNP', 'O'),\n",
            " ('veterans', 'NNS', 'O'),\n",
            " (',', ',', 'O'),\n",
            " ('who', 'WP', 'O'),\n",
            " ('initially', 'RB', 'O'),\n",
            " ('faced', 'VBD', 'O'),\n",
            " ('death', 'NN', 'B-NP'),\n",
            " ('sentences', 'NNS', 'O'),\n",
            " ('in', 'IN', 'O'),\n",
            " ('Qatar', 'NNP', 'O'),\n",
            " (',', ',', 'O'),\n",
            " ('were', 'VBD', 'O'),\n",
            " ('released', 'VBN', 'O'),\n",
            " ('by', 'IN', 'O'),\n",
            " ('Doha', 'NNP', 'O'),\n",
            " ('on', 'IN', 'O'),\n",
            " ('12th', 'CD', 'O'),\n",
            " ('Feb', 'JJ', 'O'),\n",
            " ('2024', 'CD', 'O'),\n",
            " ('.', '.', 'O'),\n",
            " ('The', 'DT', 'B-NP'),\n",
            " ('capital', 'NN', 'I-NP'),\n",
            " ('punishment', 'NN', 'B-NP'),\n",
            " ('was', 'VBD', 'O'),\n",
            " ('later', 'RB', 'O'),\n",
            " ('converted', 'VBN', 'O'),\n",
            " ('to', 'TO', 'O'),\n",
            " ('prolonged', 'JJ', 'B-NP'),\n",
            " ('prison', 'NN', 'I-NP'),\n",
            " ('terms', 'NNS', 'O'),\n",
            " ('through', 'IN', 'O'),\n",
            " ('diplomatic', 'JJ', 'O'),\n",
            " ('interventions', 'NNS', 'O'),\n",
            " ('by', 'IN', 'O'),\n",
            " ('New', 'NNP', 'O'),\n",
            " ('Delhi', 'NNP', 'O'),\n",
            " ('.', '.', 'O')]\n"
          ]
        }
      ],
      "source": [
        "from nltk.chunk import conlltags2tree, tree2conlltags\n",
        "from pprint import pprint\n",
        "iob_tagged = tree2conlltags(cs)\n",
        "pprint(iob_tagged)"
      ]
    },
    {
      "cell_type": "code",
      "execution_count": null,
      "metadata": {
        "colab": {
          "base_uri": "https://localhost:8080/"
        },
        "id": "_Tgu9zjy9D1U",
        "outputId": "cf642a42-8205-47fa-ab08-f0e9cac61c6a"
      },
      "outputs": [
        {
          "name": "stdout",
          "output_type": "stream",
          "text": [
            "(S\n",
            "  Eight/CD\n",
            "  (GPE Indian/JJ)\n",
            "  Navy/NNP\n",
            "  veterans/NNS\n",
            "  ,/,\n",
            "  who/WP\n",
            "  initially/RB\n",
            "  faced/VBD\n",
            "  death/NN\n",
            "  sentences/NNS\n",
            "  in/IN\n",
            "  (GPE Qatar/NNP)\n",
            "  ,/,\n",
            "  were/VBD\n",
            "  released/VBN\n",
            "  by/IN\n",
            "  (PERSON Doha/NNP)\n",
            "  on/IN\n",
            "  12th/CD\n",
            "  Feb/JJ\n",
            "  2024/CD\n",
            "  ./.\n",
            "  The/DT\n",
            "  capital/NN\n",
            "  punishment/NN\n",
            "  was/VBD\n",
            "  later/RB\n",
            "  converted/VBN\n",
            "  to/TO\n",
            "  prolonged/JJ\n",
            "  prison/NN\n",
            "  terms/NNS\n",
            "  through/IN\n",
            "  diplomatic/JJ\n",
            "  interventions/NNS\n",
            "  by/IN\n",
            "  (ORGANIZATION New/NNP Delhi/NNP)\n",
            "  ./.)\n"
          ]
        },
        {
          "name": "stderr",
          "output_type": "stream",
          "text": [
            "[nltk_data] Downloading package words to /root/nltk_data...\n",
            "[nltk_data]   Package words is already up-to-date!\n",
            "[nltk_data] Downloading package maxent_ne_chunker to\n",
            "[nltk_data]     /root/nltk_data...\n",
            "[nltk_data]   Package maxent_ne_chunker is already up-to-date!\n"
          ]
        }
      ],
      "source": [
        "import nltk\n",
        "nltk.download('words')\n",
        "import nltk\n",
        "nltk.download('maxent_ne_chunker')\n",
        "ne_tree = nltk.ne_chunk(pos_tag(word_tokenize(content)))\n",
        "print(ne_tree)"
      ]
    },
    {
      "cell_type": "code",
      "execution_count": null,
      "metadata": {
        "id": "peifzVoyZD9o"
      },
      "outputs": [],
      "source": [
        "ex = 'European authorities fined Google a record $5.1 billion on Wednesday for abusing its power in the mobile phone market and ordered the company to alter its practices'"
      ]
    },
    {
      "cell_type": "code",
      "execution_count": null,
      "metadata": {
        "id": "nxG-SkS5OiZB"
      },
      "outputs": [],
      "source": [
        "def preprocess(sent):\n",
        "    sent = nltk.word_tokenize(sent)\n",
        "    sent = nltk.pos_tag(sent)\n",
        "    return sent"
      ]
    },
    {
      "cell_type": "code",
      "execution_count": null,
      "metadata": {
        "colab": {
          "base_uri": "https://localhost:8080/"
        },
        "id": "1v0AUsqSZQL4",
        "outputId": "b6abbf2e-5815-4581-c295-172f1b17df21"
      },
      "outputs": [
        {
          "data": {
            "text/plain": [
              "[('European', 'JJ'),\n",
              " ('authorities', 'NNS'),\n",
              " ('fined', 'VBD'),\n",
              " ('Google', 'NNP'),\n",
              " ('a', 'DT'),\n",
              " ('record', 'NN'),\n",
              " ('$', '$'),\n",
              " ('5.1', 'CD'),\n",
              " ('billion', 'CD'),\n",
              " ('on', 'IN'),\n",
              " ('Wednesday', 'NNP'),\n",
              " ('for', 'IN'),\n",
              " ('abusing', 'VBG'),\n",
              " ('its', 'PRP$'),\n",
              " ('power', 'NN'),\n",
              " ('in', 'IN'),\n",
              " ('the', 'DT'),\n",
              " ('mobile', 'JJ'),\n",
              " ('phone', 'NN'),\n",
              " ('market', 'NN'),\n",
              " ('and', 'CC'),\n",
              " ('ordered', 'VBD'),\n",
              " ('the', 'DT'),\n",
              " ('company', 'NN'),\n",
              " ('to', 'TO'),\n",
              " ('alter', 'VB'),\n",
              " ('its', 'PRP$'),\n",
              " ('practices', 'NNS')]"
            ]
          },
          "execution_count": 16,
          "metadata": {},
          "output_type": "execute_result"
        }
      ],
      "source": [
        "sent = preprocess(ex)\n",
        "sent"
      ]
    },
    {
      "cell_type": "code",
      "execution_count": null,
      "metadata": {
        "id": "uEZpTaeFZTRt"
      },
      "outputs": [],
      "source": [
        "pattern = 'NP: {<DT>?<JJ>*<NN>}'"
      ]
    },
    {
      "cell_type": "code",
      "execution_count": null,
      "metadata": {
        "colab": {
          "base_uri": "https://localhost:8080/"
        },
        "id": "oFv6RJbuZa_p",
        "outputId": "02db2829-0998-46b8-dd3f-02d9e598cd13"
      },
      "outputs": [
        {
          "name": "stdout",
          "output_type": "stream",
          "text": [
            "(S\n",
            "  European/JJ\n",
            "  authorities/NNS\n",
            "  fined/VBD\n",
            "  Google/NNP\n",
            "  (NP a/DT record/NN)\n",
            "  $/$\n",
            "  5.1/CD\n",
            "  billion/CD\n",
            "  on/IN\n",
            "  Wednesday/NNP\n",
            "  for/IN\n",
            "  abusing/VBG\n",
            "  its/PRP$\n",
            "  (NP power/NN)\n",
            "  in/IN\n",
            "  (NP the/DT mobile/JJ phone/NN)\n",
            "  (NP market/NN)\n",
            "  and/CC\n",
            "  ordered/VBD\n",
            "  (NP the/DT company/NN)\n",
            "  to/TO\n",
            "  alter/VB\n",
            "  its/PRP$\n",
            "  practices/NNS)\n"
          ]
        }
      ],
      "source": [
        "cp = nltk.RegexpParser(pattern)\n",
        "cs = cp.parse(sent)\n",
        "print(cs)"
      ]
    },
    {
      "cell_type": "code",
      "execution_count": null,
      "metadata": {
        "colab": {
          "base_uri": "https://localhost:8080/"
        },
        "id": "xqzJ2AMrZcAj",
        "outputId": "6e92b0ea-1c7f-4608-fc7a-0dd4c55d6291"
      },
      "outputs": [
        {
          "name": "stdout",
          "output_type": "stream",
          "text": [
            "[('European', 'JJ', 'O'),\n",
            " ('authorities', 'NNS', 'O'),\n",
            " ('fined', 'VBD', 'O'),\n",
            " ('Google', 'NNP', 'O'),\n",
            " ('a', 'DT', 'B-NP'),\n",
            " ('record', 'NN', 'I-NP'),\n",
            " ('$', '$', 'O'),\n",
            " ('5.1', 'CD', 'O'),\n",
            " ('billion', 'CD', 'O'),\n",
            " ('on', 'IN', 'O'),\n",
            " ('Wednesday', 'NNP', 'O'),\n",
            " ('for', 'IN', 'O'),\n",
            " ('abusing', 'VBG', 'O'),\n",
            " ('its', 'PRP$', 'O'),\n",
            " ('power', 'NN', 'B-NP'),\n",
            " ('in', 'IN', 'O'),\n",
            " ('the', 'DT', 'B-NP'),\n",
            " ('mobile', 'JJ', 'I-NP'),\n",
            " ('phone', 'NN', 'I-NP'),\n",
            " ('market', 'NN', 'B-NP'),\n",
            " ('and', 'CC', 'O'),\n",
            " ('ordered', 'VBD', 'O'),\n",
            " ('the', 'DT', 'B-NP'),\n",
            " ('company', 'NN', 'I-NP'),\n",
            " ('to', 'TO', 'O'),\n",
            " ('alter', 'VB', 'O'),\n",
            " ('its', 'PRP$', 'O'),\n",
            " ('practices', 'NNS', 'O')]\n"
          ]
        }
      ],
      "source": [
        "from nltk.chunk import conlltags2tree, tree2conlltags\n",
        "from pprint import pprint\n",
        "iob_tagged = tree2conlltags(cs)\n",
        "pprint(iob_tagged)"
      ]
    },
    {
      "cell_type": "code",
      "execution_count": null,
      "metadata": {
        "id": "60ZpDWq1Zizn"
      },
      "outputs": [],
      "source": [
        "import spacy\n",
        "from spacy import displacy\n",
        "from collections import Counter\n",
        "import en_core_web_sm\n",
        "nlp = en_core_web_sm.load()"
      ]
    },
    {
      "cell_type": "code",
      "execution_count": null,
      "metadata": {
        "colab": {
          "base_uri": "https://localhost:8080/"
        },
        "id": "yyZHH8CQZ_Zg",
        "outputId": "5bdd75fa-bc0b-4bb7-8a37-9fc06d210358"
      },
      "outputs": [
        {
          "name": "stdout",
          "output_type": "stream",
          "text": [
            "[('European', 'NORP'),\n",
            " ('Google', 'ORG'),\n",
            " ('$5.1 billion', 'MONEY'),\n",
            " ('Wednesday', 'DATE')]\n"
          ]
        }
      ],
      "source": [
        "doc = nlp('European authorities fined Google a record $5.1 billion on Wednesday for abusing its power in the mobile phone market and ordered the company to alter its practices')\n",
        "pprint([(X.text, X.label_) for X in doc.ents])"
      ]
    },
    {
      "cell_type": "code",
      "execution_count": null,
      "metadata": {
        "colab": {
          "base_uri": "https://localhost:8080/"
        },
        "id": "AkIq9_o4aBt2",
        "outputId": "19369d44-6db3-4d7c-fc2c-2e9aead40c51"
      },
      "outputs": [
        {
          "name": "stdout",
          "output_type": "stream",
          "text": [
            "[(European, 'B', 'NORP'),\n",
            " (authorities, 'O', ''),\n",
            " (fined, 'O', ''),\n",
            " (Google, 'B', 'ORG'),\n",
            " (a, 'O', ''),\n",
            " (record, 'O', ''),\n",
            " ($, 'B', 'MONEY'),\n",
            " (5.1, 'I', 'MONEY'),\n",
            " (billion, 'I', 'MONEY'),\n",
            " (on, 'O', ''),\n",
            " (Wednesday, 'B', 'DATE'),\n",
            " (for, 'O', ''),\n",
            " (abusing, 'O', ''),\n",
            " (its, 'O', ''),\n",
            " (power, 'O', ''),\n",
            " (in, 'O', ''),\n",
            " (the, 'O', ''),\n",
            " (mobile, 'O', ''),\n",
            " (phone, 'O', ''),\n",
            " (market, 'O', ''),\n",
            " (and, 'O', ''),\n",
            " (ordered, 'O', ''),\n",
            " (the, 'O', ''),\n",
            " (company, 'O', ''),\n",
            " (to, 'O', ''),\n",
            " (alter, 'O', ''),\n",
            " (its, 'O', ''),\n",
            " (practices, 'O', '')]\n"
          ]
        }
      ],
      "source": [
        "pprint([(X, X.ent_iob_, X.ent_type_) for X in doc])"
      ]
    },
    {
      "cell_type": "code",
      "execution_count": null,
      "metadata": {
        "colab": {
          "base_uri": "https://localhost:8080/"
        },
        "id": "IkT3mAJEaIwv",
        "outputId": "ff272ac2-a40d-485a-fa00-fa6772602205"
      },
      "outputs": [
        {
          "data": {
            "text/plain": [
              "0"
            ]
          },
          "execution_count": 25,
          "metadata": {},
          "output_type": "execute_result"
        }
      ],
      "source": [
        "from bs4 import BeautifulSoup\n",
        "import requests\n",
        "import re\n",
        "def url_to_string(url):\n",
        "    res = requests.get(url)\n",
        "    html = res.text\n",
        "    soup = BeautifulSoup(html, 'html5lib')\n",
        "    for script in soup([\"script\", \"style\", 'aside']):\n",
        "        script.extract()\n",
        "    return \" \".join(re.split(r'[\\n\\t]+', soup.get_text()))\n",
        "ny_bb = url_to_string('https://www.nytimes.com/2018/08/13/us/politics/peter-strzok-fired-fbi.html?hp&action=click&pgtype=Homepage&clickSource=story-heading&module=first-column-region&region=top-news&WT.nav=top-news')\n",
        "article = nlp(ny_bb)\n",
        "len(article.ents)"
      ]
    },
    {
      "cell_type": "code",
      "execution_count": null,
      "metadata": {
        "colab": {
          "base_uri": "https://localhost:8080/"
        },
        "id": "4b5hjN-7aQm7",
        "outputId": "fe3f0041-c64b-45e7-eea3-242c767a325d"
      },
      "outputs": [
        {
          "data": {
            "text/plain": [
              "Counter()"
            ]
          },
          "execution_count": 26,
          "metadata": {},
          "output_type": "execute_result"
        }
      ],
      "source": [
        "labels = [x.label_ for x in article.ents]\n",
        "Counter(labels)"
      ]
    },
    {
      "cell_type": "code",
      "execution_count": null,
      "metadata": {
        "colab": {
          "base_uri": "https://localhost:8080/"
        },
        "id": "DNAuK7n1aUo8",
        "outputId": "fccc52ff-505a-4946-f49b-2bc01ab5c133"
      },
      "outputs": [
        {
          "data": {
            "text/plain": [
              "[]"
            ]
          },
          "execution_count": 27,
          "metadata": {},
          "output_type": "execute_result"
        }
      ],
      "source": [
        "items = [x.text for x in article.ents]\n",
        "Counter(items).most_common(3)"
      ]
    },
    {
      "cell_type": "code",
      "execution_count": null,
      "metadata": {
        "id": "f_QJNg3Kaw-N"
      },
      "outputs": [],
      "source": []
    }
  ],
  "metadata": {
    "colab": {
      "provenance": []
    },
    "kernelspec": {
      "display_name": "Python 3 (ipykernel)",
      "language": "python",
      "name": "python3"
    },
    "language_info": {
      "codemirror_mode": {
        "name": "ipython",
        "version": 3
      },
      "file_extension": ".py",
      "mimetype": "text/x-python",
      "name": "python",
      "nbconvert_exporter": "python",
      "pygments_lexer": "ipython3",
      "version": "3.9.7"
    }
  },
  "nbformat": 4,
  "nbformat_minor": 0
}