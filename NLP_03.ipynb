{
  "nbformat": 4,
  "nbformat_minor": 0,
  "metadata": {
    "colab": {
      "provenance": []
    },
    "kernelspec": {
      "name": "python3",
      "display_name": "Python 3"
    },
    "language_info": {
      "name": "python"
    }
  },
  "cells": [
    {
      "cell_type": "code",
      "execution_count": 1,
      "metadata": {
        "id": "GAtpiI1KNhy4"
      },
      "outputs": [],
      "source": [
        "import pandas as pd\n",
        "import nltk\n",
        "import spacy\n",
        "from collections import Counter\n",
        "import matplotlib.pyplot as plt"
      ]
    },
    {
      "cell_type": "code",
      "source": [
        "# Download necessary NLTK data\n",
        "nltk.download('punkt')\n",
        "nltk.download('averaged_perceptron_tagger')"
      ],
      "metadata": {
        "colab": {
          "base_uri": "https://localhost:8080/"
        },
        "id": "h2d2JHDfOj0u",
        "outputId": "c676ba07-4b7e-4901-8299-a39ff1048eb0"
      },
      "execution_count": 2,
      "outputs": [
        {
          "output_type": "stream",
          "name": "stderr",
          "text": [
            "[nltk_data] Downloading package punkt to /root/nltk_data...\n",
            "[nltk_data]   Unzipping tokenizers/punkt.zip.\n",
            "[nltk_data] Downloading package averaged_perceptron_tagger to\n",
            "[nltk_data]     /root/nltk_data...\n",
            "[nltk_data]   Unzipping taggers/averaged_perceptron_tagger.zip.\n"
          ]
        },
        {
          "output_type": "execute_result",
          "data": {
            "text/plain": [
              "True"
            ]
          },
          "metadata": {},
          "execution_count": 2
        }
      ]
    },
    {
      "cell_type": "code",
      "source": [
        "# Load spaCy model\n",
        "nlp = spacy.load(\"en_core_web_sm\")"
      ],
      "metadata": {
        "id": "VPRmzL1EOoQq"
      },
      "execution_count": 3,
      "outputs": []
    },
    {
      "cell_type": "code",
      "source": [
        "# Load the dataset, specifying the encoding\n",
        "df = pd.read_csv('News Categoires.csv', encoding='latin-1')"
      ],
      "metadata": {
        "id": "XHwDRPF4Ov1K"
      },
      "execution_count": 8,
      "outputs": []
    },
    {
      "cell_type": "code",
      "source": [
        "df"
      ],
      "metadata": {
        "colab": {
          "base_uri": "https://localhost:8080/",
          "height": 424
        },
        "id": "8G5Odb13RWrC",
        "outputId": "05d16109-4eda-426a-a068-eff2b4c4a67f"
      },
      "execution_count": 9,
      "outputs": [
        {
          "output_type": "execute_result",
          "data": {
            "text/plain": [
              "                                                  News  Category\n",
              "0    The IMF now expects China's economy to grow by...   Economy\n",
              "1    Manufacturing activity in the Eurozone has dec...   Economy\n",
              "2    Continued disruptions in the global supply cha...   Economy\n",
              "3    Concerns about food security remain high due t...   Economy\n",
              "4    While some central banks, like the US Federal ...   Economy\n",
              "..                                                 ...       ...\n",
              "247  The war in Ukraine continues with no end in si...  Politics\n",
              "248  Chinese President Xi Jinping secured a third t...  Politics\n",
              "249  The 28th Conference of the Parties to the Unit...  Politics\n",
              "250  The global economy is facing a number of chall...  Politics\n",
              "251  Populist movements, both on the right and the ...  Politics\n",
              "\n",
              "[252 rows x 2 columns]"
            ],
            "text/html": [
              "\n",
              "  <div id=\"df-7a79ccd8-2109-42af-9d58-64bf2881c762\" class=\"colab-df-container\">\n",
              "    <div>\n",
              "<style scoped>\n",
              "    .dataframe tbody tr th:only-of-type {\n",
              "        vertical-align: middle;\n",
              "    }\n",
              "\n",
              "    .dataframe tbody tr th {\n",
              "        vertical-align: top;\n",
              "    }\n",
              "\n",
              "    .dataframe thead th {\n",
              "        text-align: right;\n",
              "    }\n",
              "</style>\n",
              "<table border=\"1\" class=\"dataframe\">\n",
              "  <thead>\n",
              "    <tr style=\"text-align: right;\">\n",
              "      <th></th>\n",
              "      <th>News</th>\n",
              "      <th>Category</th>\n",
              "    </tr>\n",
              "  </thead>\n",
              "  <tbody>\n",
              "    <tr>\n",
              "      <th>0</th>\n",
              "      <td>The IMF now expects China's economy to grow by...</td>\n",
              "      <td>Economy</td>\n",
              "    </tr>\n",
              "    <tr>\n",
              "      <th>1</th>\n",
              "      <td>Manufacturing activity in the Eurozone has dec...</td>\n",
              "      <td>Economy</td>\n",
              "    </tr>\n",
              "    <tr>\n",
              "      <th>2</th>\n",
              "      <td>Continued disruptions in the global supply cha...</td>\n",
              "      <td>Economy</td>\n",
              "    </tr>\n",
              "    <tr>\n",
              "      <th>3</th>\n",
              "      <td>Concerns about food security remain high due t...</td>\n",
              "      <td>Economy</td>\n",
              "    </tr>\n",
              "    <tr>\n",
              "      <th>4</th>\n",
              "      <td>While some central banks, like the US Federal ...</td>\n",
              "      <td>Economy</td>\n",
              "    </tr>\n",
              "    <tr>\n",
              "      <th>...</th>\n",
              "      <td>...</td>\n",
              "      <td>...</td>\n",
              "    </tr>\n",
              "    <tr>\n",
              "      <th>247</th>\n",
              "      <td>The war in Ukraine continues with no end in si...</td>\n",
              "      <td>Politics</td>\n",
              "    </tr>\n",
              "    <tr>\n",
              "      <th>248</th>\n",
              "      <td>Chinese President Xi Jinping secured a third t...</td>\n",
              "      <td>Politics</td>\n",
              "    </tr>\n",
              "    <tr>\n",
              "      <th>249</th>\n",
              "      <td>The 28th Conference of the Parties to the Unit...</td>\n",
              "      <td>Politics</td>\n",
              "    </tr>\n",
              "    <tr>\n",
              "      <th>250</th>\n",
              "      <td>The global economy is facing a number of chall...</td>\n",
              "      <td>Politics</td>\n",
              "    </tr>\n",
              "    <tr>\n",
              "      <th>251</th>\n",
              "      <td>Populist movements, both on the right and the ...</td>\n",
              "      <td>Politics</td>\n",
              "    </tr>\n",
              "  </tbody>\n",
              "</table>\n",
              "<p>252 rows × 2 columns</p>\n",
              "</div>\n",
              "    <div class=\"colab-df-buttons\">\n",
              "\n",
              "  <div class=\"colab-df-container\">\n",
              "    <button class=\"colab-df-convert\" onclick=\"convertToInteractive('df-7a79ccd8-2109-42af-9d58-64bf2881c762')\"\n",
              "            title=\"Convert this dataframe to an interactive table.\"\n",
              "            style=\"display:none;\">\n",
              "\n",
              "  <svg xmlns=\"http://www.w3.org/2000/svg\" height=\"24px\" viewBox=\"0 -960 960 960\">\n",
              "    <path d=\"M120-120v-720h720v720H120Zm60-500h600v-160H180v160Zm220 220h160v-160H400v160Zm0 220h160v-160H400v160ZM180-400h160v-160H180v160Zm440 0h160v-160H620v160ZM180-180h160v-160H180v160Zm440 0h160v-160H620v160Z\"/>\n",
              "  </svg>\n",
              "    </button>\n",
              "\n",
              "  <style>\n",
              "    .colab-df-container {\n",
              "      display:flex;\n",
              "      gap: 12px;\n",
              "    }\n",
              "\n",
              "    .colab-df-convert {\n",
              "      background-color: #E8F0FE;\n",
              "      border: none;\n",
              "      border-radius: 50%;\n",
              "      cursor: pointer;\n",
              "      display: none;\n",
              "      fill: #1967D2;\n",
              "      height: 32px;\n",
              "      padding: 0 0 0 0;\n",
              "      width: 32px;\n",
              "    }\n",
              "\n",
              "    .colab-df-convert:hover {\n",
              "      background-color: #E2EBFA;\n",
              "      box-shadow: 0px 1px 2px rgba(60, 64, 67, 0.3), 0px 1px 3px 1px rgba(60, 64, 67, 0.15);\n",
              "      fill: #174EA6;\n",
              "    }\n",
              "\n",
              "    .colab-df-buttons div {\n",
              "      margin-bottom: 4px;\n",
              "    }\n",
              "\n",
              "    [theme=dark] .colab-df-convert {\n",
              "      background-color: #3B4455;\n",
              "      fill: #D2E3FC;\n",
              "    }\n",
              "\n",
              "    [theme=dark] .colab-df-convert:hover {\n",
              "      background-color: #434B5C;\n",
              "      box-shadow: 0px 1px 3px 1px rgba(0, 0, 0, 0.15);\n",
              "      filter: drop-shadow(0px 1px 2px rgba(0, 0, 0, 0.3));\n",
              "      fill: #FFFFFF;\n",
              "    }\n",
              "  </style>\n",
              "\n",
              "    <script>\n",
              "      const buttonEl =\n",
              "        document.querySelector('#df-7a79ccd8-2109-42af-9d58-64bf2881c762 button.colab-df-convert');\n",
              "      buttonEl.style.display =\n",
              "        google.colab.kernel.accessAllowed ? 'block' : 'none';\n",
              "\n",
              "      async function convertToInteractive(key) {\n",
              "        const element = document.querySelector('#df-7a79ccd8-2109-42af-9d58-64bf2881c762');\n",
              "        const dataTable =\n",
              "          await google.colab.kernel.invokeFunction('convertToInteractive',\n",
              "                                                    [key], {});\n",
              "        if (!dataTable) return;\n",
              "\n",
              "        const docLinkHtml = 'Like what you see? Visit the ' +\n",
              "          '<a target=\"_blank\" href=https://colab.research.google.com/notebooks/data_table.ipynb>data table notebook</a>'\n",
              "          + ' to learn more about interactive tables.';\n",
              "        element.innerHTML = '';\n",
              "        dataTable['output_type'] = 'display_data';\n",
              "        await google.colab.output.renderOutput(dataTable, element);\n",
              "        const docLink = document.createElement('div');\n",
              "        docLink.innerHTML = docLinkHtml;\n",
              "        element.appendChild(docLink);\n",
              "      }\n",
              "    </script>\n",
              "  </div>\n",
              "\n",
              "\n",
              "<div id=\"df-760f6756-cea1-4b3d-9a6f-8df08e3c00cf\">\n",
              "  <button class=\"colab-df-quickchart\" onclick=\"quickchart('df-760f6756-cea1-4b3d-9a6f-8df08e3c00cf')\"\n",
              "            title=\"Suggest charts\"\n",
              "            style=\"display:none;\">\n",
              "\n",
              "<svg xmlns=\"http://www.w3.org/2000/svg\" height=\"24px\"viewBox=\"0 0 24 24\"\n",
              "     width=\"24px\">\n",
              "    <g>\n",
              "        <path d=\"M19 3H5c-1.1 0-2 .9-2 2v14c0 1.1.9 2 2 2h14c1.1 0 2-.9 2-2V5c0-1.1-.9-2-2-2zM9 17H7v-7h2v7zm4 0h-2V7h2v10zm4 0h-2v-4h2v4z\"/>\n",
              "    </g>\n",
              "</svg>\n",
              "  </button>\n",
              "\n",
              "<style>\n",
              "  .colab-df-quickchart {\n",
              "      --bg-color: #E8F0FE;\n",
              "      --fill-color: #1967D2;\n",
              "      --hover-bg-color: #E2EBFA;\n",
              "      --hover-fill-color: #174EA6;\n",
              "      --disabled-fill-color: #AAA;\n",
              "      --disabled-bg-color: #DDD;\n",
              "  }\n",
              "\n",
              "  [theme=dark] .colab-df-quickchart {\n",
              "      --bg-color: #3B4455;\n",
              "      --fill-color: #D2E3FC;\n",
              "      --hover-bg-color: #434B5C;\n",
              "      --hover-fill-color: #FFFFFF;\n",
              "      --disabled-bg-color: #3B4455;\n",
              "      --disabled-fill-color: #666;\n",
              "  }\n",
              "\n",
              "  .colab-df-quickchart {\n",
              "    background-color: var(--bg-color);\n",
              "    border: none;\n",
              "    border-radius: 50%;\n",
              "    cursor: pointer;\n",
              "    display: none;\n",
              "    fill: var(--fill-color);\n",
              "    height: 32px;\n",
              "    padding: 0;\n",
              "    width: 32px;\n",
              "  }\n",
              "\n",
              "  .colab-df-quickchart:hover {\n",
              "    background-color: var(--hover-bg-color);\n",
              "    box-shadow: 0 1px 2px rgba(60, 64, 67, 0.3), 0 1px 3px 1px rgba(60, 64, 67, 0.15);\n",
              "    fill: var(--button-hover-fill-color);\n",
              "  }\n",
              "\n",
              "  .colab-df-quickchart-complete:disabled,\n",
              "  .colab-df-quickchart-complete:disabled:hover {\n",
              "    background-color: var(--disabled-bg-color);\n",
              "    fill: var(--disabled-fill-color);\n",
              "    box-shadow: none;\n",
              "  }\n",
              "\n",
              "  .colab-df-spinner {\n",
              "    border: 2px solid var(--fill-color);\n",
              "    border-color: transparent;\n",
              "    border-bottom-color: var(--fill-color);\n",
              "    animation:\n",
              "      spin 1s steps(1) infinite;\n",
              "  }\n",
              "\n",
              "  @keyframes spin {\n",
              "    0% {\n",
              "      border-color: transparent;\n",
              "      border-bottom-color: var(--fill-color);\n",
              "      border-left-color: var(--fill-color);\n",
              "    }\n",
              "    20% {\n",
              "      border-color: transparent;\n",
              "      border-left-color: var(--fill-color);\n",
              "      border-top-color: var(--fill-color);\n",
              "    }\n",
              "    30% {\n",
              "      border-color: transparent;\n",
              "      border-left-color: var(--fill-color);\n",
              "      border-top-color: var(--fill-color);\n",
              "      border-right-color: var(--fill-color);\n",
              "    }\n",
              "    40% {\n",
              "      border-color: transparent;\n",
              "      border-right-color: var(--fill-color);\n",
              "      border-top-color: var(--fill-color);\n",
              "    }\n",
              "    60% {\n",
              "      border-color: transparent;\n",
              "      border-right-color: var(--fill-color);\n",
              "    }\n",
              "    80% {\n",
              "      border-color: transparent;\n",
              "      border-right-color: var(--fill-color);\n",
              "      border-bottom-color: var(--fill-color);\n",
              "    }\n",
              "    90% {\n",
              "      border-color: transparent;\n",
              "      border-bottom-color: var(--fill-color);\n",
              "    }\n",
              "  }\n",
              "</style>\n",
              "\n",
              "  <script>\n",
              "    async function quickchart(key) {\n",
              "      const quickchartButtonEl =\n",
              "        document.querySelector('#' + key + ' button');\n",
              "      quickchartButtonEl.disabled = true;  // To prevent multiple clicks.\n",
              "      quickchartButtonEl.classList.add('colab-df-spinner');\n",
              "      try {\n",
              "        const charts = await google.colab.kernel.invokeFunction(\n",
              "            'suggestCharts', [key], {});\n",
              "      } catch (error) {\n",
              "        console.error('Error during call to suggestCharts:', error);\n",
              "      }\n",
              "      quickchartButtonEl.classList.remove('colab-df-spinner');\n",
              "      quickchartButtonEl.classList.add('colab-df-quickchart-complete');\n",
              "    }\n",
              "    (() => {\n",
              "      let quickchartButtonEl =\n",
              "        document.querySelector('#df-760f6756-cea1-4b3d-9a6f-8df08e3c00cf button');\n",
              "      quickchartButtonEl.style.display =\n",
              "        google.colab.kernel.accessAllowed ? 'block' : 'none';\n",
              "    })();\n",
              "  </script>\n",
              "</div>\n",
              "\n",
              "  <div id=\"id_e4338961-8c62-41db-881e-ded0dd81462a\">\n",
              "    <style>\n",
              "      .colab-df-generate {\n",
              "        background-color: #E8F0FE;\n",
              "        border: none;\n",
              "        border-radius: 50%;\n",
              "        cursor: pointer;\n",
              "        display: none;\n",
              "        fill: #1967D2;\n",
              "        height: 32px;\n",
              "        padding: 0 0 0 0;\n",
              "        width: 32px;\n",
              "      }\n",
              "\n",
              "      .colab-df-generate:hover {\n",
              "        background-color: #E2EBFA;\n",
              "        box-shadow: 0px 1px 2px rgba(60, 64, 67, 0.3), 0px 1px 3px 1px rgba(60, 64, 67, 0.15);\n",
              "        fill: #174EA6;\n",
              "      }\n",
              "\n",
              "      [theme=dark] .colab-df-generate {\n",
              "        background-color: #3B4455;\n",
              "        fill: #D2E3FC;\n",
              "      }\n",
              "\n",
              "      [theme=dark] .colab-df-generate:hover {\n",
              "        background-color: #434B5C;\n",
              "        box-shadow: 0px 1px 3px 1px rgba(0, 0, 0, 0.15);\n",
              "        filter: drop-shadow(0px 1px 2px rgba(0, 0, 0, 0.3));\n",
              "        fill: #FFFFFF;\n",
              "      }\n",
              "    </style>\n",
              "    <button class=\"colab-df-generate\" onclick=\"generateWithVariable('df')\"\n",
              "            title=\"Generate code using this dataframe.\"\n",
              "            style=\"display:none;\">\n",
              "\n",
              "  <svg xmlns=\"http://www.w3.org/2000/svg\" height=\"24px\"viewBox=\"0 0 24 24\"\n",
              "       width=\"24px\">\n",
              "    <path d=\"M7,19H8.4L18.45,9,17,7.55,7,17.6ZM5,21V16.75L18.45,3.32a2,2,0,0,1,2.83,0l1.4,1.43a1.91,1.91,0,0,1,.58,1.4,1.91,1.91,0,0,1-.58,1.4L9.25,21ZM18.45,9,17,7.55Zm-12,3A5.31,5.31,0,0,0,4.9,8.1,5.31,5.31,0,0,0,1,6.5,5.31,5.31,0,0,0,4.9,4.9,5.31,5.31,0,0,0,6.5,1,5.31,5.31,0,0,0,8.1,4.9,5.31,5.31,0,0,0,12,6.5,5.46,5.46,0,0,0,6.5,12Z\"/>\n",
              "  </svg>\n",
              "    </button>\n",
              "    <script>\n",
              "      (() => {\n",
              "      const buttonEl =\n",
              "        document.querySelector('#id_e4338961-8c62-41db-881e-ded0dd81462a button.colab-df-generate');\n",
              "      buttonEl.style.display =\n",
              "        google.colab.kernel.accessAllowed ? 'block' : 'none';\n",
              "\n",
              "      buttonEl.onclick = () => {\n",
              "        google.colab.notebook.generateWithVariable('df');\n",
              "      }\n",
              "      })();\n",
              "    </script>\n",
              "  </div>\n",
              "\n",
              "    </div>\n",
              "  </div>\n"
            ],
            "application/vnd.google.colaboratory.intrinsic+json": {
              "type": "dataframe",
              "variable_name": "df",
              "summary": "{\n  \"name\": \"df\",\n  \"rows\": 252,\n  \"fields\": [\n    {\n      \"column\": \"News\",\n      \"properties\": {\n        \"dtype\": \"string\",\n        \"num_unique_values\": 252,\n        \"samples\": [\n          \"With the holidays in full swing,\\u00a0here are 20 genius baking hacks to save you time and stress in the kitchen,\\u00a0from perfectly peeling ginger to whipping cream without a mixer.\",\n          \"The Centre for Economics and Business Research (CEBR) predicts Bangladesh's economic boom,\\u00a0with a potential GDP size of $1,628 billion by 2037.\",\n          \"Another study, published in the journal Circulation, found that dark chocolate may also help protect against heart disease. The study found that people who ate dark chocolate regularly had lower levels of LDL cholesterol (the \\\"bad\\\" cholesterol) and higher levels of HDL cholesterol (the \\\"good\\\" cholesterol).\"\n        ],\n        \"semantic_type\": \"\",\n        \"description\": \"\"\n      }\n    },\n    {\n      \"column\": \"Category\",\n      \"properties\": {\n        \"dtype\": \"category\",\n        \"num_unique_values\": 8,\n        \"samples\": [\n          \"Health\",\n          \"International relations\",\n          \"Economy\"\n        ],\n        \"semantic_type\": \"\",\n        \"description\": \"\"\n      }\n    }\n  ]\n}"
            }
          },
          "metadata": {},
          "execution_count": 9
        }
      ]
    },
    {
      "cell_type": "code",
      "source": [
        "df['News'][0]"
      ],
      "metadata": {
        "colab": {
          "base_uri": "https://localhost:8080/",
          "height": 53
        },
        "id": "eqFEUaz-RxsM",
        "outputId": "ef2cf689-97b6-4212-d2fa-34067298291e"
      },
      "execution_count": 10,
      "outputs": [
        {
          "output_type": "execute_result",
          "data": {
            "text/plain": [
              "\"The IMF now expects China's economy to grow by 5.4% this year,\\xa0higher than previous estimates.\\xa0This reflects China's shift away from its zero-Covid policy and increased government stimulus.\""
            ],
            "application/vnd.google.colaboratory.intrinsic+json": {
              "type": "string"
            }
          },
          "metadata": {},
          "execution_count": 10
        }
      ]
    },
    {
      "cell_type": "code",
      "source": [
        "def nltk_pos_tag(text):\n",
        "    tokens = nltk.word_tokenize(text)\n",
        "    return nltk.pos_tag(tokens)\n",
        "\n",
        "# Function to perform spaCy POS tagging\n",
        "def spacy_pos_tag(text):\n",
        "    doc = nlp(text)\n",
        "    return [(token.text, token.pos_) for token in doc]\n",
        "\n",
        "# Function to count POS tags\n",
        "def count_pos_tags(tagged_tokens):\n",
        "    return Counter(tag for _, tag in tagged_tokens)"
      ],
      "metadata": {
        "id": "VBuO8_UpR3EU"
      },
      "execution_count": 11,
      "outputs": []
    },
    {
      "cell_type": "code",
      "source": [
        "# Analyze the entire dataset\n",
        "nltk_results = []\n",
        "spacy_results = []\n",
        "\n",
        "for text in df['News']:\n",
        "    nltk_tagged = nltk_pos_tag(text)\n",
        "    spacy_tagged = spacy_pos_tag(text)\n",
        "\n",
        "    nltk_results.append(count_pos_tags(nltk_tagged))\n",
        "    spacy_results.append(count_pos_tags(spacy_tagged))"
      ],
      "metadata": {
        "id": "jt21XZf2SPYf"
      },
      "execution_count": 12,
      "outputs": []
    },
    {
      "cell_type": "code",
      "source": [
        "# Combine results\n",
        "nltk_total = sum(nltk_results, Counter())\n",
        "spacy_total = sum(spacy_results, Counter())"
      ],
      "metadata": {
        "id": "FBW2i69hSVwM"
      },
      "execution_count": 13,
      "outputs": []
    },
    {
      "cell_type": "code",
      "source": [
        "# Print results\n",
        "print(\"NLTK POS Tag Counts:\")\n",
        "for tag, count in nltk_total.most_common():\n",
        "    print(f\"{tag}: {count}\")"
      ],
      "metadata": {
        "colab": {
          "base_uri": "https://localhost:8080/"
        },
        "id": "2VPWcuI-ScXM",
        "outputId": "677fee83-982e-4166-8b6d-20bc5304362c"
      },
      "execution_count": 14,
      "outputs": [
        {
          "output_type": "stream",
          "name": "stdout",
          "text": [
            "NLTK POS Tag Counts:\n",
            "NN: 1602\n",
            "IN: 1184\n",
            "NNP: 1122\n",
            "DT: 963\n",
            "JJ: 872\n",
            "NNS: 842\n",
            ".: 477\n",
            ",: 440\n",
            "VBG: 355\n",
            "CC: 342\n",
            "VBZ: 285\n",
            "VB: 271\n",
            "TO: 245\n",
            "VBN: 239\n",
            "VBP: 190\n",
            "VBD: 163\n",
            "RB: 146\n",
            "CD: 133\n",
            "POS: 102\n",
            "PRP$: 95\n",
            "WDT: 75\n",
            "MD: 73\n",
            "PRP: 61\n",
            "JJR: 29\n",
            "NNPS: 26\n",
            "RBR: 23\n",
            "WP: 22\n",
            "``: 21\n",
            "'': 21\n",
            "JJS: 18\n",
            "(: 17\n",
            "): 17\n",
            "RP: 16\n",
            "WRB: 8\n",
            "EX: 5\n",
            ":: 5\n",
            "RBS: 3\n",
            "$: 2\n",
            "PDT: 2\n",
            "FW: 2\n",
            "UH: 1\n"
          ]
        }
      ]
    },
    {
      "cell_type": "code",
      "source": [
        "print(\"\\nspaCy POS Tag Counts:\")\n",
        "for tag, count in spacy_total.most_common():\n",
        "    print(f\"{tag}: {count}\")"
      ],
      "metadata": {
        "colab": {
          "base_uri": "https://localhost:8080/"
        },
        "id": "plPm2r0NSe_q",
        "outputId": "29f91f5f-85de-45e1-dc1c-f2699ae3a98d"
      },
      "execution_count": 15,
      "outputs": [
        {
          "output_type": "stream",
          "name": "stdout",
          "text": [
            "\n",
            "spaCy POS Tag Counts:\n",
            "NOUN: 2523\n",
            "VERB: 1208\n",
            "ADP: 1161\n",
            "PROPN: 1133\n",
            "PUNCT: 1083\n",
            "DET: 930\n",
            "ADJ: 846\n",
            "AUX: 454\n",
            "CCONJ: 346\n",
            "PRON: 298\n",
            "PART: 272\n",
            "ADV: 192\n",
            "SPACE: 180\n",
            "NUM: 140\n",
            "SCONJ: 132\n",
            "SYM: 5\n",
            "X: 2\n",
            "INTJ: 1\n"
          ]
        }
      ]
    },
    {
      "cell_type": "code",
      "source": [
        "# Visualize comparison\n",
        "plt.figure(figsize=(12, 6))\n",
        "plt.bar(range(len(nltk_total)), list(nltk_total.values()), align='center', alpha=0.5, label='NLTK')\n",
        "plt.bar(range(len(spacy_total)), list(spacy_total.values()), align='center', alpha=0.5, label='spaCy')\n",
        "plt.xticks(range(len(nltk_total)), list(nltk_total.keys()), rotation=90)\n",
        "plt.xlabel('POS Tags')\n",
        "plt.ylabel('Count')\n",
        "plt.title('Comparison of POS Tag Counts: NLTK vs spaCy')\n",
        "plt.legend()\n",
        "plt.tight_layout()\n",
        "plt.show()"
      ],
      "metadata": {
        "colab": {
          "base_uri": "https://localhost:8080/",
          "height": 607
        },
        "id": "3ELNzLNSSiJw",
        "outputId": "ae63d64a-fa7e-47f7-c525-8b7a17d07139"
      },
      "execution_count": 16,
      "outputs": [
        {
          "output_type": "display_data",
          "data": {
            "text/plain": [
              "<Figure size 1200x600 with 1 Axes>"
            ],
            "image/png": "[encoded data removed]"
          },
          "metadata": {}
        }
      ]
    },
    {
      "cell_type": "code",
      "source": [
        "# Calculate percentage difference\n",
        "total_nltk = sum(nltk_total.values())\n",
        "total_spacy = sum(spacy_total.values())\n",
        "\n",
        "print(\"\\nPercentage Difference in POS Tag Counts:\")\n",
        "for tag in set(nltk_total.keys()) | set(spacy_total.keys()):\n",
        "    nltk_count = nltk_total.get(tag, 0)\n",
        "    spacy_count = spacy_total.get(tag, 0)\n",
        "    nltk_percent = (nltk_count / total_nltk) * 100\n",
        "    spacy_percent = (spacy_count / total_spacy) * 100\n",
        "    diff = abs(nltk_percent - spacy_percent)\n",
        "    print(f\"{tag}: {diff:.2f}%\")"
      ],
      "metadata": {
        "colab": {
          "base_uri": "https://localhost:8080/"
        },
        "id": "oDgfZ3f0Sn9n",
        "outputId": "9a0a3482-0b52-4534-c020-1e9898fbb346"
      },
      "execution_count": 17,
      "outputs": [
        {
          "output_type": "stream",
          "name": "stdout",
          "text": [
            "\n",
            "Percentage Difference in POS Tag Counts:\n",
            "NUM: 1.28%\n",
            "WP: 0.21%\n",
            "WRB: 0.08%\n",
            ":: 0.05%\n",
            "): 0.16%\n",
            "'': 0.20%\n",
            "FW: 0.02%\n",
            "NNPS: 0.25%\n",
            "PART: 2.49%\n",
            "PDT: 0.02%\n",
            "VBD: 1.55%\n",
            "CD: 1.26%\n",
            "JJ: 8.29%\n",
            "RBR: 0.22%\n",
            "JJS: 0.17%\n",
            "IN: 11.26%\n",
            ",: 4.18%\n",
            "ADP: 10.65%\n",
            "UH: 0.01%\n",
            "VBN: 2.27%\n",
            "VBZ: 2.71%\n",
            "DT: 9.16%\n",
            "NNP: 10.67%\n",
            "NOUN: 23.13%\n",
            "WDT: 0.71%\n",
            "VBP: 1.81%\n",
            "RBS: 0.03%\n",
            "DET: 8.53%\n",
            "X: 0.02%\n",
            "CC: 3.25%\n",
            "PRP: 0.58%\n",
            ".: 4.54%\n",
            "NN: 15.24%\n",
            "VB: 2.58%\n",
            "ADJ: 7.76%\n",
            "$: 0.02%\n",
            "JJR: 0.28%\n",
            "SCONJ: 1.21%\n",
            "POS: 0.97%\n",
            "INTJ: 0.01%\n",
            "PROPN: 10.39%\n",
            "PUNCT: 9.93%\n",
            "AUX: 4.16%\n",
            "SPACE: 1.65%\n",
            "TO: 2.33%\n",
            "SYM: 0.05%\n",
            "PRON: 2.73%\n",
            "VERB: 11.08%\n",
            "CCONJ: 3.17%\n",
            "(: 0.16%\n",
            "NNS: 8.01%\n",
            "VBG: 3.38%\n",
            "RP: 0.15%\n",
            "EX: 0.05%\n",
            "RB: 1.39%\n",
            "ADV: 1.76%\n",
            "MD: 0.69%\n",
            "``: 0.20%\n",
            "PRP$: 0.90%\n"
          ]
        }
      ]
    },
    {
      "cell_type": "code",
      "source": [],
      "metadata": {
        "id": "ALcR3fjjS2P-"
      },
      "execution_count": null,
      "outputs": []
    }
  ]
}