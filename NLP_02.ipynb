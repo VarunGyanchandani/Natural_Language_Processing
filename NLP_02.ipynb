{
 "cells": [
  {
   "cell_type": "code",
   "execution_count": 75,
   "metadata": {
    "id": "Fsx7jq6lm7rF"
   },
   "outputs": [],
   "source": [
    "import nltk.corpus\n",
    "from nltk import word_tokenize\n",
    "from nltk.corpus import stopwords\n",
    "from nltk.stem.porter import PorterStemmer\n",
    "import string"
   ]
  },
  {
   "cell_type": "code",
   "execution_count": 13,
   "metadata": {
    "colab": {
     "base_uri": "https://localhost:8080/",
     "height": 0
    },
    "id": "EuHPzukSjK_V",
    "outputId": "7ea553a1-24bd-4daf-badc-2e75fd8c88ba"
   },
   "outputs": [
    {
     "name": "stderr",
     "output_type": "stream",
     "text": [
      "[nltk_data] Downloading package stopwords to /root/nltk_data...\n",
      "[nltk_data]   Unzipping corpora/stopwords.zip.\n"
     ]
    },
    {
     "data": {
      "text/plain": [
       "True"
      ]
     },
     "execution_count": 13,
     "metadata": {},
     "output_type": "execute_result"
    }
   ],
   "source": [
    "nltk.download('stopwords')"
   ]
  },
  {
   "cell_type": "code",
   "execution_count": 2,
   "metadata": {
    "colab": {
     "base_uri": "https://localhost:8080/",
     "height": 0
    },
    "id": "McS9EBuhrKmM",
    "outputId": "cc01d563-69a0-4f3b-bbbd-e5be36ea20d9"
   },
   "outputs": [
    {
     "name": "stderr",
     "output_type": "stream",
     "text": [
      "[nltk_data] Downloading package genesis to /root/nltk_data...\n",
      "[nltk_data]   Unzipping corpora/genesis.zip.\n"
     ]
    },
    {
     "data": {
      "text/plain": [
       "True"
      ]
     },
     "execution_count": 2,
     "metadata": {},
     "output_type": "execute_result"
    }
   ],
   "source": [
    "nltk.download('genesis')"
   ]
  },
  {
   "cell_type": "code",
   "execution_count": 3,
   "metadata": {
    "id": "qyyF92FLvA7h"
   },
   "outputs": [],
   "source": [
    "gene = nltk.corpus.genesis"
   ]
  },
  {
   "cell_type": "code",
   "execution_count": 4,
   "metadata": {
    "colab": {
     "base_uri": "https://localhost:8080/",
     "height": 0
    },
    "id": "6FQcdILsvKwo",
    "outputId": "d5270b60-bf92-4e12-ae6c-a639a057921a"
   },
   "outputs": [
    {
     "data": {
      "text/plain": [
       "315268"
      ]
     },
     "execution_count": 4,
     "metadata": {},
     "output_type": "execute_result"
    }
   ],
   "source": [
    "tokens = gene.words()\n",
    "# No of words\n",
    "len(tokens)"
   ]
  },
  {
   "cell_type": "code",
   "execution_count": 7,
   "metadata": {
    "colab": {
     "base_uri": "https://localhost:8080/",
     "height": 0
    },
    "id": "QgjQdRCrv6ip",
    "outputId": "6c83230a-d149-4ecb-f82d-3c4c384658fa"
   },
   "outputs": [
    {
     "data": {
      "text/plain": [
       "13640"
      ]
     },
     "execution_count": 7,
     "metadata": {},
     "output_type": "execute_result"
    }
   ],
   "source": [
    "sen = gene.sents()\n",
    "# No of sentences\n",
    "len(sen)"
   ]
  },
  {
   "cell_type": "code",
   "execution_count": 8,
   "metadata": {
    "colab": {
     "base_uri": "https://localhost:8080/",
     "height": 0
    },
    "id": "7Agba_PAxEip",
    "outputId": "319f74e3-2515-4a0c-be7f-458153a89054"
   },
   "outputs": [
    {
     "data": {
      "text/plain": [
       "238"
      ]
     },
     "execution_count": 8,
     "metadata": {},
     "output_type": "execute_result"
    }
   ],
   "source": [
    "par = gene.paras()\n",
    "# No of paragraphs\n",
    "len(par)"
   ]
  },
  {
   "cell_type": "code",
   "execution_count": 89,
   "metadata": {
    "id": "rLbk1s8m2ze4"
   },
   "outputs": [],
   "source": [
    "def remove_punctuation(text):\n",
    "  trans = str.maketrans('', '', string.punctuation)\n",
    "  return text.translate(trans)"
   ]
  },
  {
   "cell_type": "code",
   "execution_count": 90,
   "metadata": {
    "id": "W05Nba-nzcy5"
   },
   "outputs": [],
   "source": [
    "def stopword_count(text):\n",
    "  text = ' '.join(text)\n",
    "  text = remove_punctuation(text)\n",
    "  stopwrds = set(stopwords.words('english'))\n",
    "  words = word_tokenize(text)\n",
    "  filtered_words = [word for word in words if word not in stopwrds]\n",
    "  return filtered_words"
   ]
  },
  {
   "cell_type": "code",
   "execution_count": 41,
   "metadata": {
    "colab": {
     "base_uri": "https://localhost:8080/",
     "height": 0
    },
    "id": "V0Uf5iym7Pet",
    "outputId": "e884d908-0e38-4a2d-94ba-311c916fbd24"
   },
   "outputs": [
    {
     "data": {
      "text/plain": [
       "0.42681619158252165"
      ]
     },
     "execution_count": 41,
     "metadata": {},
     "output_type": "execute_result"
    }
   ],
   "source": [
    "compression_ratio = len(word_tokenize(red))/len(gene.words('english-kjv.txt'))\n",
    "compression_ratio"
   ]
  },
  {
   "cell_type": "code",
   "execution_count": 48,
   "metadata": {
    "id": "GwBCJr7e1euH"
   },
   "outputs": [],
   "source": [
    "news = open('News.txt', 'r')\n",
    "news_article = news.read()"
   ]
  },
  {
   "cell_type": "code",
   "execution_count": 49,
   "metadata": {
    "colab": {
     "base_uri": "https://localhost:8080/",
     "height": 0
    },
    "id": "8km_5sDj5P7Y",
    "outputId": "9522f204-c469-4a1a-c1c1-25251a1a6c78"
   },
   "outputs": [
    {
     "data": {
      "text/plain": [
       "241"
      ]
     },
     "execution_count": 49,
     "metadata": {},
     "output_type": "execute_result"
    }
   ],
   "source": [
    "no_of_words = len(word_tokenize(news_article))\n",
    "no_of_words"
   ]
  },
  {
   "cell_type": "code",
   "execution_count": 68,
   "metadata": {
    "colab": {
     "base_uri": "https://localhost:8080/",
     "height": 192
    },
    "id": "CQtnJXA7qNde",
    "outputId": "ff555671-773c-4aa1-beb1-51c761d29de0"
   },
   "outputs": [
    {
     "data": {
      "application/vnd.google.colaboratory.intrinsic+json": {
       "type": "string"
      },
      "text/plain": [
       "'The Congress has expelled Acharya Pramod Krishnam, a former member of the party’s Uttar Pradesh advisory council, for “indiscipline and making repeated statements against the party,” days after he criticised the Congress’s stance of its leadership skipping the Ram Temple consecration ceremony held last month.\\n\\n“In view of complaints about indiscipline and repeatedly making statements against the party, the Congress president has approved the Uttar Pradesh Congress Committee’s proposal to expel Shri Pramod Krishnam for six years with immediate effect,” a statement issued by party general secretary K C Venugopal read.\\n\\nKrishnam, who unsuccessfully contested the 2019 Lok Sabha polls from Lucknow on a Congress ticket, had also recently praised Prime Minister Narendra Modi for the Ram temple consecration event.\\n\\nContested Lok Sabha elections in 2014\\nBorn on January 4, 1965, in a Brahmin family in Bihar, Krishnam founded the Shri Kalki Foundation in Sambhal, and is also the Peethadhishwar of the Kalki Dham.\\n\\nHe joined the Congress and contested the Lok Sabha elections in 2014 from Uttar Pradesh’s Sambhal, but lost from the seat. The Indian Express reported that one of the reasons for Krishnam’s sulking could be the Samajwadi Party’s decision to declare candidates for both Sambhal and Lucknow, which he had been eyeing.'"
      ]
     },
     "execution_count": 68,
     "metadata": {},
     "output_type": "execute_result"
    }
   ],
   "source": [
    "news_article"
   ]
  },
  {
   "cell_type": "code",
   "execution_count": 73,
   "metadata": {
    "colab": {
     "base_uri": "https://localhost:8080/",
     "height": 0
    },
    "id": "BpmvN1UH57eF",
    "outputId": "32db583d-fe88-470a-f427-01abab63ba1a"
   },
   "outputs": [
    {
     "data": {
      "text/plain": [
       "6"
      ]
     },
     "execution_count": 73,
     "metadata": {},
     "output_type": "execute_result"
    }
   ],
   "source": [
    "sents = news_article.split('.')\n",
    "sents.remove('')\n",
    "no_of_sent = len(sents)\n",
    "no_of_sent"
   ]
  },
  {
   "cell_type": "code",
   "execution_count": 74,
   "metadata": {
    "colab": {
     "base_uri": "https://localhost:8080/",
     "height": 0
    },
    "id": "WEHVII1g6hro",
    "outputId": "44103827-8c62-4ee7-a675-bed768b7fc9d"
   },
   "outputs": [
    {
     "data": {
      "text/plain": [
       "5"
      ]
     },
     "execution_count": 74,
     "metadata": {},
     "output_type": "execute_result"
    }
   ],
   "source": [
    "no_of_para = len(news_article.split('\\n\\n'))\n",
    "no_of_para"
   ]
  },
  {
   "cell_type": "code",
   "execution_count": 96,
   "metadata": {
    "colab": {
     "base_uri": "https://localhost:8080/",
     "height": 0
    },
    "id": "uPa08KsJsWu1",
    "outputId": "7d3ce541-db21-437e-809d-3d06ba3a53f4"
   },
   "outputs": [
    {
     "data": {
      "text/plain": [
       "['The Congress has expelled Acharya Pramod Krishnam a former member of the party’s Uttar Pradesh advisory council for “indiscipline and making repeated statements against the party” days after he criticised the Congress’s stance of its leadership skipping the Ram Temple consecration ceremony held last month',\n",
       " '\\n\\n“In view of complaints about indiscipline and repeatedly making statements against the party the Congress president has approved the Uttar Pradesh Congress Committee’s proposal to expel Shri Pramod Krishnam for six years with immediate effect” a statement issued by party general secretary K C Venugopal read',\n",
       " '\\n\\nKrishnam who unsuccessfully contested the 2019 Lok Sabha polls from Lucknow on a Congress ticket had also recently praised Prime Minister Narendra Modi for the Ram temple consecration event',\n",
       " '\\n\\nContested Lok Sabha elections in 2014\\nBorn on January 4 1965 in a Brahmin family in Bihar Krishnam founded the Shri Kalki Foundation in Sambhal and is also the Peethadhishwar of the Kalki Dham',\n",
       " '\\n\\nHe joined the Congress and contested the Lok Sabha elections in 2014 from Uttar Pradesh’s Sambhal but lost from the seat',\n",
       " ' The Indian Express reported that one of the reasons for Krishnam’s sulking could be the Samajwadi Party’s decision to declare candidates for both Sambhal and Lucknow which he had been eyeing']"
      ]
     },
     "execution_count": 96,
     "metadata": {},
     "output_type": "execute_result"
    }
   ],
   "source": [
    "filtered_sents = []\n",
    "for sentence in sents:\n",
    "  filtered_sents.append(remove_punctuation(sentence))\n",
    "filtered_sents"
   ]
  },
  {
   "cell_type": "markdown",
   "metadata": {
    "id": "qYSxN6x1qrdJ"
   },
   "source": [
    "## lemmatization"
   ]
  },
  {
   "cell_type": "code",
   "execution_count": 97,
   "metadata": {
    "id": "ZA6MFVBGnl90"
   },
   "outputs": [],
   "source": [
    "# Stemmer Function\n",
    "def stem_words(text, stemmer):\n",
    "  words = word_tokenize(text)\n",
    "  stems = [stemmer.stem(word) for word in words]\n",
    "  return stems"
   ]
  },
  {
   "cell_type": "code",
   "execution_count": 106,
   "metadata": {
    "colab": {
     "base_uri": "https://localhost:8080/",
     "height": 0
    },
    "id": "qd7yWcJhq-UX",
    "outputId": "f56e7f11-ed8b-4220-b67d-217c057a0f19"
   },
   "outputs": [
    {
     "data": {
      "text/plain": [
       "6"
      ]
     },
     "execution_count": 106,
     "metadata": {},
     "output_type": "execute_result"
    }
   ],
   "source": [
    "# 1. Porter Stemmer\n",
    "stemmer = PorterStemmer()\n",
    "porter_stem = []\n",
    "for sentence in filtered_sents:\n",
    "  porter_stem.append(stem_words(sentence, stemmer))"
   ]
  },
  {
   "cell_type": "code",
   "execution_count": null,
   "metadata": {
    "id": "JvqooafmsRGt"
   },
   "outputs": [],
   "source": [
    "# 2. Snowball Stemmer\n",
    "stemmer = nltk.stem.snowball.SnowballStemmer(language='english')\n",
    "snowball_stem = []\n",
    "for sentence in filtered_sents:\n",
    "  snowball_stem.append(stem_words(sentence, stemmer))"
   ]
  },
  {
   "cell_type": "code",
   "execution_count": 119,
   "metadata": {
    "id": "kO2dAiaktm0v"
   },
   "outputs": [],
   "source": [
    "# 3. lemmatization\n",
    "lemmetizer = nltk.stem.WordNetLemmatizer()\n",
    "lemma = []\n",
    "for sentence in filtered_sents:\n",
    "  words = word_tokenize(sentence)\n",
    "  lem = [lemmetizer.lemmatize(word) for word in words]\n",
    "  lemma.append(lem)"
   ]
  },
  {
   "cell_type": "code",
   "execution_count": 124,
   "metadata": {
    "colab": {
     "base_uri": "https://localhost:8080/",
     "height": 0
    },
    "id": "Y1FASUr0uscK",
    "outputId": "db0246c0-3dac-48ba-9210-81377d26a215"
   },
   "outputs": [
    {
     "name": "stdout",
     "output_type": "stream",
     "text": [
      "\n",
      "------------------------------------------------------------------------------\n",
      "Porter Stemmer = 51\t\tSnowball Stemmer = 51\t\tLemmatizer: 51\n",
      "\n",
      "------------------------------------------------------------------------------\n",
      "Porter Stemmer = 50\t\tSnowball Stemmer = 50\t\tLemmatizer: 50\n",
      "\n",
      "------------------------------------------------------------------------------\n",
      "Porter Stemmer = 29\t\tSnowball Stemmer = 29\t\tLemmatizer: 29\n",
      "\n",
      "------------------------------------------------------------------------------\n",
      "Porter Stemmer = 34\t\tSnowball Stemmer = 34\t\tLemmatizer: 34\n",
      "\n",
      "------------------------------------------------------------------------------\n",
      "Porter Stemmer = 23\t\tSnowball Stemmer = 23\t\tLemmatizer: 23\n",
      "\n",
      "------------------------------------------------------------------------------\n",
      "Porter Stemmer = 35\t\tSnowball Stemmer = 35\t\tLemmatizer: 35\n"
     ]
    }
   ],
   "source": [
    "# Comparing\n",
    "for i in range(len(porter_stem)):\n",
    "  print('\\n------------------------------------------------------------------------------\\nPorter Stemmer = {p}\\t\\tSnowball Stemmer = {s}\\t\\tLemmatizer: {l}'.format(p =len(porter_stem[i]),\n",
    "                                                                                                    s = len(snowball_stem[i]),\n",
    "                                                                                                    l = len(lemma[i])))"
   ]
  },
  {
   "cell_type": "code",
   "execution_count": null,
   "metadata": {
    "id": "q7xvXtsAvbED"
   },
   "outputs": [],
   "source": []
  }
 ],
 "metadata": {
  "colab": {
   "provenance": []
  },
  "kernelspec": {
   "display_name": "Python 3 (ipykernel)",
   "language": "python",
   "name": "python3"
  },
  "language_info": {
   "codemirror_mode": {
    "name": "ipython",
    "version": 3
   },
   "file_extension": ".py",
   "mimetype": "text/x-python",
   "name": "python",
   "nbconvert_exporter": "python",
   "pygments_lexer": "ipython3",
   "version": "3.9.7"
  }
 },
 "nbformat": 4,
 "nbformat_minor": 1
}
